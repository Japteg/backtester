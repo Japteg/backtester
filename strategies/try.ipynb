{
 "cells": [
  {
   "cell_type": "code",
   "execution_count": 29,
   "id": "98b6628d-730b-4024-8a97-330c44d46b8e",
   "metadata": {},
   "outputs": [],
   "source": [
    "import pandas as pd\n",
    "import plotly.graph_objects as go"
   ]
  },
  {
   "cell_type": "code",
   "execution_count": 43,
   "id": "7012cd67-ca03-4271-9fd1-b32d6de0a97e",
   "metadata": {},
   "outputs": [],
   "source": [
    "df = pd.read_pickle('/Users/japtegsingh/Personal/Projects/Backtesting/backtester/data/'\n",
    "                    'sample_nfo_2019-20_data/complete_nfo_data_2019-01-10.pkl')\n"
   ]
  },
  {
   "cell_type": "code",
   "execution_count": 44,
   "id": "d297539d-dd53-4a26-8944-b2fe5a44a242",
   "metadata": {},
   "outputs": [
    {
     "name": "stdout",
     "output_type": "stream",
     "text": [
      "<class 'pandas.core.frame.DataFrame'>\n",
      "Int64Index: 257478 entries, 0 to 257477\n",
      "Data columns (total 15 columns):\n",
      " #   Column           Non-Null Count   Dtype         \n",
      "---  ------           --------------   -----         \n",
      " 0   ticker           257478 non-null  object        \n",
      " 1   instrument_name  257478 non-null  object        \n",
      " 2   instrument_type  257478 non-null  object        \n",
      " 3   expiry_date      257478 non-null  object        \n",
      " 4   strike_price     257478 non-null  float64       \n",
      " 5   datetime         257478 non-null  datetime64[ns]\n",
      " 6   date             257478 non-null  object        \n",
      " 7   time             257478 non-null  object        \n",
      " 8   open             257478 non-null  float64       \n",
      " 9   high             257478 non-null  float64       \n",
      " 10  low              257478 non-null  float64       \n",
      " 11  close            257478 non-null  float64       \n",
      " 12  volume           257478 non-null  int64         \n",
      " 13  open interest    257478 non-null  int64         \n",
      " 14  vix_close        257103 non-null  float64       \n",
      "dtypes: datetime64[ns](1), float64(6), int64(2), object(6)\n",
      "memory usage: 31.4+ MB\n"
     ]
    }
   ],
   "source": [
    "df.info()"
   ]
  },
  {
   "cell_type": "code",
   "execution_count": 45,
   "id": "7184acad-c955-4fd7-ace8-eba6a8f9d53e",
   "metadata": {},
   "outputs": [
    {
     "data": {
      "text/html": [
       "<div>\n",
       "<style scoped>\n",
       "    .dataframe tbody tr th:only-of-type {\n",
       "        vertical-align: middle;\n",
       "    }\n",
       "\n",
       "    .dataframe tbody tr th {\n",
       "        vertical-align: top;\n",
       "    }\n",
       "\n",
       "    .dataframe thead th {\n",
       "        text-align: right;\n",
       "    }\n",
       "</style>\n",
       "<table border=\"1\" class=\"dataframe\">\n",
       "  <thead>\n",
       "    <tr style=\"text-align: right;\">\n",
       "      <th></th>\n",
       "      <th>ticker</th>\n",
       "      <th>instrument_name</th>\n",
       "      <th>instrument_type</th>\n",
       "      <th>expiry_date</th>\n",
       "      <th>strike_price</th>\n",
       "      <th>datetime</th>\n",
       "      <th>date</th>\n",
       "      <th>time</th>\n",
       "      <th>open</th>\n",
       "      <th>high</th>\n",
       "      <th>low</th>\n",
       "      <th>close</th>\n",
       "      <th>volume</th>\n",
       "      <th>open interest</th>\n",
       "      <th>vix_close</th>\n",
       "    </tr>\n",
       "  </thead>\n",
       "  <tbody>\n",
       "    <tr>\n",
       "      <th>22251</th>\n",
       "      <td>BANKNIFTY10JAN1923900PE.NFO</td>\n",
       "      <td>BANKNIFTY</td>\n",
       "      <td>PE</td>\n",
       "      <td>2019-01-10</td>\n",
       "      <td>23900.0</td>\n",
       "      <td>2019-01-10 10:51:00</td>\n",
       "      <td>2019-01-10</td>\n",
       "      <td>10:51:00</td>\n",
       "      <td>0.1</td>\n",
       "      <td>0.1</td>\n",
       "      <td>0.1</td>\n",
       "      <td>0.1</td>\n",
       "      <td>5000</td>\n",
       "      <td>17460</td>\n",
       "      <td>15.3950</td>\n",
       "    </tr>\n",
       "    <tr>\n",
       "      <th>22252</th>\n",
       "      <td>BANKNIFTY10JAN1923900PE.NFO</td>\n",
       "      <td>BANKNIFTY</td>\n",
       "      <td>PE</td>\n",
       "      <td>2019-01-10</td>\n",
       "      <td>23900.0</td>\n",
       "      <td>2019-01-10 10:54:00</td>\n",
       "      <td>2019-01-10</td>\n",
       "      <td>10:54:00</td>\n",
       "      <td>0.1</td>\n",
       "      <td>0.1</td>\n",
       "      <td>0.1</td>\n",
       "      <td>0.1</td>\n",
       "      <td>200</td>\n",
       "      <td>17460</td>\n",
       "      <td>15.4075</td>\n",
       "    </tr>\n",
       "    <tr>\n",
       "      <th>22253</th>\n",
       "      <td>BANKNIFTY10JAN1923900PE.NFO</td>\n",
       "      <td>BANKNIFTY</td>\n",
       "      <td>PE</td>\n",
       "      <td>2019-01-10</td>\n",
       "      <td>23900.0</td>\n",
       "      <td>2019-01-10 10:55:00</td>\n",
       "      <td>2019-01-10</td>\n",
       "      <td>10:55:00</td>\n",
       "      <td>0.1</td>\n",
       "      <td>0.1</td>\n",
       "      <td>0.1</td>\n",
       "      <td>0.1</td>\n",
       "      <td>2000</td>\n",
       "      <td>17460</td>\n",
       "      <td>15.4075</td>\n",
       "    </tr>\n",
       "    <tr>\n",
       "      <th>22254</th>\n",
       "      <td>BANKNIFTY10JAN1923900PE.NFO</td>\n",
       "      <td>BANKNIFTY</td>\n",
       "      <td>PE</td>\n",
       "      <td>2019-01-10</td>\n",
       "      <td>23900.0</td>\n",
       "      <td>2019-01-10 10:57:00</td>\n",
       "      <td>2019-01-10</td>\n",
       "      <td>10:57:00</td>\n",
       "      <td>0.1</td>\n",
       "      <td>0.1</td>\n",
       "      <td>0.1</td>\n",
       "      <td>0.1</td>\n",
       "      <td>4680</td>\n",
       "      <td>17460</td>\n",
       "      <td>15.4125</td>\n",
       "    </tr>\n",
       "    <tr>\n",
       "      <th>22255</th>\n",
       "      <td>BANKNIFTY10JAN1923900PE.NFO</td>\n",
       "      <td>BANKNIFTY</td>\n",
       "      <td>PE</td>\n",
       "      <td>2019-01-10</td>\n",
       "      <td>23900.0</td>\n",
       "      <td>2019-01-10 10:58:00</td>\n",
       "      <td>2019-01-10</td>\n",
       "      <td>10:58:00</td>\n",
       "      <td>0.1</td>\n",
       "      <td>0.1</td>\n",
       "      <td>0.1</td>\n",
       "      <td>0.1</td>\n",
       "      <td>1340</td>\n",
       "      <td>17460</td>\n",
       "      <td>15.4025</td>\n",
       "    </tr>\n",
       "    <tr>\n",
       "      <th>...</th>\n",
       "      <td>...</td>\n",
       "      <td>...</td>\n",
       "      <td>...</td>\n",
       "      <td>...</td>\n",
       "      <td>...</td>\n",
       "      <td>...</td>\n",
       "      <td>...</td>\n",
       "      <td>...</td>\n",
       "      <td>...</td>\n",
       "      <td>...</td>\n",
       "      <td>...</td>\n",
       "      <td>...</td>\n",
       "      <td>...</td>\n",
       "      <td>...</td>\n",
       "      <td>...</td>\n",
       "    </tr>\n",
       "    <tr>\n",
       "      <th>58387</th>\n",
       "      <td>BANKNIFTY-III.NFO</td>\n",
       "      <td>BANKNIFTY</td>\n",
       "      <td>FUT</td>\n",
       "      <td>2019-03-28</td>\n",
       "      <td>0.0</td>\n",
       "      <td>2019-01-10 15:20:00</td>\n",
       "      <td>2019-01-10</td>\n",
       "      <td>15:20:00</td>\n",
       "      <td>27782.7</td>\n",
       "      <td>27797.2</td>\n",
       "      <td>27782.7</td>\n",
       "      <td>27797.2</td>\n",
       "      <td>20</td>\n",
       "      <td>6560</td>\n",
       "      <td>15.3000</td>\n",
       "    </tr>\n",
       "    <tr>\n",
       "      <th>58388</th>\n",
       "      <td>BANKNIFTY-III.NFO</td>\n",
       "      <td>BANKNIFTY</td>\n",
       "      <td>FUT</td>\n",
       "      <td>2019-03-28</td>\n",
       "      <td>0.0</td>\n",
       "      <td>2019-01-10 15:25:00</td>\n",
       "      <td>2019-01-10</td>\n",
       "      <td>15:25:00</td>\n",
       "      <td>27797.2</td>\n",
       "      <td>27797.2</td>\n",
       "      <td>27797.2</td>\n",
       "      <td>27797.2</td>\n",
       "      <td>20</td>\n",
       "      <td>6560</td>\n",
       "      <td>15.3000</td>\n",
       "    </tr>\n",
       "    <tr>\n",
       "      <th>58389</th>\n",
       "      <td>BANKNIFTY-III.NFO</td>\n",
       "      <td>BANKNIFTY</td>\n",
       "      <td>FUT</td>\n",
       "      <td>2019-03-28</td>\n",
       "      <td>0.0</td>\n",
       "      <td>2019-01-10 15:27:00</td>\n",
       "      <td>2019-01-10</td>\n",
       "      <td>15:27:00</td>\n",
       "      <td>27797.2</td>\n",
       "      <td>27797.2</td>\n",
       "      <td>27797.0</td>\n",
       "      <td>27797.0</td>\n",
       "      <td>20</td>\n",
       "      <td>6560</td>\n",
       "      <td>15.3100</td>\n",
       "    </tr>\n",
       "    <tr>\n",
       "      <th>58390</th>\n",
       "      <td>BANKNIFTY-III.NFO</td>\n",
       "      <td>BANKNIFTY</td>\n",
       "      <td>FUT</td>\n",
       "      <td>2019-03-28</td>\n",
       "      <td>0.0</td>\n",
       "      <td>2019-01-10 15:28:00</td>\n",
       "      <td>2019-01-10</td>\n",
       "      <td>15:28:00</td>\n",
       "      <td>27797.0</td>\n",
       "      <td>27802.0</td>\n",
       "      <td>27795.0</td>\n",
       "      <td>27802.0</td>\n",
       "      <td>100</td>\n",
       "      <td>6580</td>\n",
       "      <td>15.2800</td>\n",
       "    </tr>\n",
       "    <tr>\n",
       "      <th>58391</th>\n",
       "      <td>BANKNIFTY-III.NFO</td>\n",
       "      <td>BANKNIFTY</td>\n",
       "      <td>FUT</td>\n",
       "      <td>2019-03-28</td>\n",
       "      <td>0.0</td>\n",
       "      <td>2019-01-10 15:29:00</td>\n",
       "      <td>2019-01-10</td>\n",
       "      <td>15:29:00</td>\n",
       "      <td>27802.0</td>\n",
       "      <td>27802.0</td>\n",
       "      <td>27802.0</td>\n",
       "      <td>27802.0</td>\n",
       "      <td>120</td>\n",
       "      <td>6580</td>\n",
       "      <td>15.2900</td>\n",
       "    </tr>\n",
       "  </tbody>\n",
       "</table>\n",
       "<p>36141 rows × 15 columns</p>\n",
       "</div>"
      ],
      "text/plain": [
       "                            ticker instrument_name instrument_type  \\\n",
       "22251  BANKNIFTY10JAN1923900PE.NFO       BANKNIFTY              PE   \n",
       "22252  BANKNIFTY10JAN1923900PE.NFO       BANKNIFTY              PE   \n",
       "22253  BANKNIFTY10JAN1923900PE.NFO       BANKNIFTY              PE   \n",
       "22254  BANKNIFTY10JAN1923900PE.NFO       BANKNIFTY              PE   \n",
       "22255  BANKNIFTY10JAN1923900PE.NFO       BANKNIFTY              PE   \n",
       "...                            ...             ...             ...   \n",
       "58387            BANKNIFTY-III.NFO       BANKNIFTY             FUT   \n",
       "58388            BANKNIFTY-III.NFO       BANKNIFTY             FUT   \n",
       "58389            BANKNIFTY-III.NFO       BANKNIFTY             FUT   \n",
       "58390            BANKNIFTY-III.NFO       BANKNIFTY             FUT   \n",
       "58391            BANKNIFTY-III.NFO       BANKNIFTY             FUT   \n",
       "\n",
       "      expiry_date  strike_price            datetime        date      time  \\\n",
       "22251  2019-01-10       23900.0 2019-01-10 10:51:00  2019-01-10  10:51:00   \n",
       "22252  2019-01-10       23900.0 2019-01-10 10:54:00  2019-01-10  10:54:00   \n",
       "22253  2019-01-10       23900.0 2019-01-10 10:55:00  2019-01-10  10:55:00   \n",
       "22254  2019-01-10       23900.0 2019-01-10 10:57:00  2019-01-10  10:57:00   \n",
       "22255  2019-01-10       23900.0 2019-01-10 10:58:00  2019-01-10  10:58:00   \n",
       "...           ...           ...                 ...         ...       ...   \n",
       "58387  2019-03-28           0.0 2019-01-10 15:20:00  2019-01-10  15:20:00   \n",
       "58388  2019-03-28           0.0 2019-01-10 15:25:00  2019-01-10  15:25:00   \n",
       "58389  2019-03-28           0.0 2019-01-10 15:27:00  2019-01-10  15:27:00   \n",
       "58390  2019-03-28           0.0 2019-01-10 15:28:00  2019-01-10  15:28:00   \n",
       "58391  2019-03-28           0.0 2019-01-10 15:29:00  2019-01-10  15:29:00   \n",
       "\n",
       "          open     high      low    close  volume  open interest  vix_close  \n",
       "22251      0.1      0.1      0.1      0.1    5000          17460    15.3950  \n",
       "22252      0.1      0.1      0.1      0.1     200          17460    15.4075  \n",
       "22253      0.1      0.1      0.1      0.1    2000          17460    15.4075  \n",
       "22254      0.1      0.1      0.1      0.1    4680          17460    15.4125  \n",
       "22255      0.1      0.1      0.1      0.1    1340          17460    15.4025  \n",
       "...        ...      ...      ...      ...     ...            ...        ...  \n",
       "58387  27782.7  27797.2  27782.7  27797.2      20           6560    15.3000  \n",
       "58388  27797.2  27797.2  27797.2  27797.2      20           6560    15.3000  \n",
       "58389  27797.2  27797.2  27797.0  27797.0      20           6560    15.3100  \n",
       "58390  27797.0  27802.0  27795.0  27802.0     100           6580    15.2800  \n",
       "58391  27802.0  27802.0  27802.0  27802.0     120           6580    15.2900  \n",
       "\n",
       "[36141 rows x 15 columns]"
      ]
     },
     "execution_count": 45,
     "metadata": {},
     "output_type": "execute_result"
    }
   ],
   "source": [
    "df_bnf = df[df['instrument_name'] == 'BANKNIFTY']\n",
    "df_bnf"
   ]
  },
  {
   "cell_type": "code",
   "execution_count": 46,
   "id": "bb4e6456",
   "metadata": {},
   "outputs": [],
   "source": [
    "data = df_bnf[df_bnf['ticker'] == 'BANKNIFTY31JAN1927600PE.NFO']\n",
    "data.reset_index(drop=True, inplace=True)"
   ]
  },
  {
   "cell_type": "code",
   "execution_count": 47,
   "id": "1b7fb587",
   "metadata": {},
   "outputs": [
    {
     "name": "stderr",
     "output_type": "stream",
     "text": [
      "/var/folders/hb/gj139mss7lz2f0hx66wsbhc00000gn/T/ipykernel_24953/1321949841.py:1: SettingWithCopyWarning:\n",
      "\n",
      "\n",
      "A value is trying to be set on a copy of a slice from a DataFrame.\n",
      "Try using .loc[row_indexer,col_indexer] = value instead\n",
      "\n",
      "See the caveats in the documentation: https://pandas.pydata.org/pandas-docs/stable/user_guide/indexing.html#returning-a-view-versus-a-copy\n",
      "\n",
      "/var/folders/hb/gj139mss7lz2f0hx66wsbhc00000gn/T/ipykernel_24953/1321949841.py:3: SettingWithCopyWarning:\n",
      "\n",
      "\n",
      "A value is trying to be set on a copy of a slice from a DataFrame.\n",
      "Try using .loc[row_indexer,col_indexer] = value instead\n",
      "\n",
      "See the caveats in the documentation: https://pandas.pydata.org/pandas-docs/stable/user_guide/indexing.html#returning-a-view-versus-a-copy\n",
      "\n",
      "/var/folders/hb/gj139mss7lz2f0hx66wsbhc00000gn/T/ipykernel_24953/1321949841.py:4: SettingWithCopyWarning:\n",
      "\n",
      "\n",
      "A value is trying to be set on a copy of a slice from a DataFrame.\n",
      "Try using .loc[row_indexer,col_indexer] = value instead\n",
      "\n",
      "See the caveats in the documentation: https://pandas.pydata.org/pandas-docs/stable/user_guide/indexing.html#returning-a-view-versus-a-copy\n",
      "\n",
      "/var/folders/hb/gj139mss7lz2f0hx66wsbhc00000gn/T/ipykernel_24953/1321949841.py:5: SettingWithCopyWarning:\n",
      "\n",
      "\n",
      "A value is trying to be set on a copy of a slice from a DataFrame.\n",
      "Try using .loc[row_indexer,col_indexer] = value instead\n",
      "\n",
      "See the caveats in the documentation: https://pandas.pydata.org/pandas-docs/stable/user_guide/indexing.html#returning-a-view-versus-a-copy\n",
      "\n",
      "/var/folders/hb/gj139mss7lz2f0hx66wsbhc00000gn/T/ipykernel_24953/1321949841.py:6: SettingWithCopyWarning:\n",
      "\n",
      "\n",
      "A value is trying to be set on a copy of a slice from a DataFrame.\n",
      "Try using .loc[row_indexer,col_indexer] = value instead\n",
      "\n",
      "See the caveats in the documentation: https://pandas.pydata.org/pandas-docs/stable/user_guide/indexing.html#returning-a-view-versus-a-copy\n",
      "\n",
      "/var/folders/hb/gj139mss7lz2f0hx66wsbhc00000gn/T/ipykernel_24953/1321949841.py:7: SettingWithCopyWarning:\n",
      "\n",
      "\n",
      "A value is trying to be set on a copy of a slice from a DataFrame.\n",
      "Try using .loc[row_indexer,col_indexer] = value instead\n",
      "\n",
      "See the caveats in the documentation: https://pandas.pydata.org/pandas-docs/stable/user_guide/indexing.html#returning-a-view-versus-a-copy\n",
      "\n"
     ]
    }
   ],
   "source": [
    "data['datetime'] = pd.to_datetime(data['datetime'])\n",
    "data.set_index('datetime',inplace=True)\n",
    "data['open_15'] = data['open'].resample('15min').first()\n",
    "data['high_15'] = data['high'].resample('15min').max()\n",
    "data['low_15'] = data['low'].resample('15min').min()\n",
    "data['close_15'] = data['close'].resample('15min').last()\n",
    "data['volume_15'] = data['volume'].resample('15min').sum()\n",
    "data_15 = data[['open_15', 'high_15', 'low_15', 'close_15', 'volume_15']].dropna()\n",
    "data = data[['open_15', 'high_15', 'low_15', 'close_15', 'volume_15']].dropna()\n",
    "data.columns = ['open', 'high', 'low', 'close', 'volume']"
   ]
  },
  {
   "cell_type": "code",
   "execution_count": 48,
   "id": "40392c35",
   "metadata": {},
   "outputs": [
    {
     "data": {
      "text/html": [
       "<div>\n",
       "<style scoped>\n",
       "    .dataframe tbody tr th:only-of-type {\n",
       "        vertical-align: middle;\n",
       "    }\n",
       "\n",
       "    .dataframe tbody tr th {\n",
       "        vertical-align: top;\n",
       "    }\n",
       "\n",
       "    .dataframe thead th {\n",
       "        text-align: right;\n",
       "    }\n",
       "</style>\n",
       "<table border=\"1\" class=\"dataframe\">\n",
       "  <thead>\n",
       "    <tr style=\"text-align: right;\">\n",
       "      <th></th>\n",
       "      <th>datetime</th>\n",
       "      <th>open</th>\n",
       "      <th>high</th>\n",
       "      <th>low</th>\n",
       "      <th>close</th>\n",
       "      <th>volume</th>\n",
       "    </tr>\n",
       "  </thead>\n",
       "  <tbody>\n",
       "    <tr>\n",
       "      <th>0</th>\n",
       "      <td>2019-01-10 09:15:00</td>\n",
       "      <td>320.00</td>\n",
       "      <td>336.85</td>\n",
       "      <td>315.25</td>\n",
       "      <td>333.00</td>\n",
       "      <td>5020.0</td>\n",
       "    </tr>\n",
       "    <tr>\n",
       "      <th>1</th>\n",
       "      <td>2019-01-10 09:30:00</td>\n",
       "      <td>333.00</td>\n",
       "      <td>345.00</td>\n",
       "      <td>325.50</td>\n",
       "      <td>332.90</td>\n",
       "      <td>5660.0</td>\n",
       "    </tr>\n",
       "    <tr>\n",
       "      <th>2</th>\n",
       "      <td>2019-01-10 09:45:00</td>\n",
       "      <td>332.90</td>\n",
       "      <td>339.30</td>\n",
       "      <td>321.00</td>\n",
       "      <td>325.00</td>\n",
       "      <td>2320.0</td>\n",
       "    </tr>\n",
       "    <tr>\n",
       "      <th>3</th>\n",
       "      <td>2019-01-10 10:00:00</td>\n",
       "      <td>325.00</td>\n",
       "      <td>339.00</td>\n",
       "      <td>325.00</td>\n",
       "      <td>330.05</td>\n",
       "      <td>1900.0</td>\n",
       "    </tr>\n",
       "    <tr>\n",
       "      <th>4</th>\n",
       "      <td>2019-01-10 10:30:00</td>\n",
       "      <td>320.35</td>\n",
       "      <td>328.00</td>\n",
       "      <td>310.00</td>\n",
       "      <td>324.00</td>\n",
       "      <td>3220.0</td>\n",
       "    </tr>\n",
       "    <tr>\n",
       "      <th>5</th>\n",
       "      <td>2019-01-10 10:45:00</td>\n",
       "      <td>324.00</td>\n",
       "      <td>332.20</td>\n",
       "      <td>324.00</td>\n",
       "      <td>327.40</td>\n",
       "      <td>3500.0</td>\n",
       "    </tr>\n",
       "    <tr>\n",
       "      <th>6</th>\n",
       "      <td>2019-01-10 11:00:00</td>\n",
       "      <td>327.40</td>\n",
       "      <td>347.05</td>\n",
       "      <td>327.40</td>\n",
       "      <td>345.00</td>\n",
       "      <td>1980.0</td>\n",
       "    </tr>\n",
       "    <tr>\n",
       "      <th>7</th>\n",
       "      <td>2019-01-10 11:15:00</td>\n",
       "      <td>345.00</td>\n",
       "      <td>347.20</td>\n",
       "      <td>335.95</td>\n",
       "      <td>341.70</td>\n",
       "      <td>960.0</td>\n",
       "    </tr>\n",
       "    <tr>\n",
       "      <th>8</th>\n",
       "      <td>2019-01-10 11:30:00</td>\n",
       "      <td>341.70</td>\n",
       "      <td>344.90</td>\n",
       "      <td>334.70</td>\n",
       "      <td>335.45</td>\n",
       "      <td>500.0</td>\n",
       "    </tr>\n",
       "    <tr>\n",
       "      <th>9</th>\n",
       "      <td>2019-01-10 11:45:00</td>\n",
       "      <td>335.45</td>\n",
       "      <td>349.75</td>\n",
       "      <td>332.00</td>\n",
       "      <td>340.10</td>\n",
       "      <td>1380.0</td>\n",
       "    </tr>\n",
       "    <tr>\n",
       "      <th>10</th>\n",
       "      <td>2019-01-10 12:15:00</td>\n",
       "      <td>351.00</td>\n",
       "      <td>354.70</td>\n",
       "      <td>340.80</td>\n",
       "      <td>353.50</td>\n",
       "      <td>1360.0</td>\n",
       "    </tr>\n",
       "    <tr>\n",
       "      <th>11</th>\n",
       "      <td>2019-01-10 12:30:00</td>\n",
       "      <td>353.50</td>\n",
       "      <td>354.75</td>\n",
       "      <td>320.00</td>\n",
       "      <td>323.65</td>\n",
       "      <td>1580.0</td>\n",
       "    </tr>\n",
       "    <tr>\n",
       "      <th>12</th>\n",
       "      <td>2019-01-10 13:15:00</td>\n",
       "      <td>326.00</td>\n",
       "      <td>348.50</td>\n",
       "      <td>320.60</td>\n",
       "      <td>347.65</td>\n",
       "      <td>420.0</td>\n",
       "    </tr>\n",
       "    <tr>\n",
       "      <th>13</th>\n",
       "      <td>2019-01-10 14:15:00</td>\n",
       "      <td>323.00</td>\n",
       "      <td>363.00</td>\n",
       "      <td>323.00</td>\n",
       "      <td>352.05</td>\n",
       "      <td>4060.0</td>\n",
       "    </tr>\n",
       "    <tr>\n",
       "      <th>14</th>\n",
       "      <td>2019-01-10 14:30:00</td>\n",
       "      <td>352.05</td>\n",
       "      <td>352.05</td>\n",
       "      <td>336.60</td>\n",
       "      <td>345.00</td>\n",
       "      <td>5220.0</td>\n",
       "    </tr>\n",
       "    <tr>\n",
       "      <th>15</th>\n",
       "      <td>2019-01-10 14:45:00</td>\n",
       "      <td>345.00</td>\n",
       "      <td>350.35</td>\n",
       "      <td>330.15</td>\n",
       "      <td>331.65</td>\n",
       "      <td>1920.0</td>\n",
       "    </tr>\n",
       "    <tr>\n",
       "      <th>16</th>\n",
       "      <td>2019-01-10 15:00:00</td>\n",
       "      <td>331.65</td>\n",
       "      <td>341.00</td>\n",
       "      <td>319.05</td>\n",
       "      <td>337.40</td>\n",
       "      <td>3880.0</td>\n",
       "    </tr>\n",
       "  </tbody>\n",
       "</table>\n",
       "</div>"
      ],
      "text/plain": [
       "              datetime    open    high     low   close  volume\n",
       "0  2019-01-10 09:15:00  320.00  336.85  315.25  333.00  5020.0\n",
       "1  2019-01-10 09:30:00  333.00  345.00  325.50  332.90  5660.0\n",
       "2  2019-01-10 09:45:00  332.90  339.30  321.00  325.00  2320.0\n",
       "3  2019-01-10 10:00:00  325.00  339.00  325.00  330.05  1900.0\n",
       "4  2019-01-10 10:30:00  320.35  328.00  310.00  324.00  3220.0\n",
       "5  2019-01-10 10:45:00  324.00  332.20  324.00  327.40  3500.0\n",
       "6  2019-01-10 11:00:00  327.40  347.05  327.40  345.00  1980.0\n",
       "7  2019-01-10 11:15:00  345.00  347.20  335.95  341.70   960.0\n",
       "8  2019-01-10 11:30:00  341.70  344.90  334.70  335.45   500.0\n",
       "9  2019-01-10 11:45:00  335.45  349.75  332.00  340.10  1380.0\n",
       "10 2019-01-10 12:15:00  351.00  354.70  340.80  353.50  1360.0\n",
       "11 2019-01-10 12:30:00  353.50  354.75  320.00  323.65  1580.0\n",
       "12 2019-01-10 13:15:00  326.00  348.50  320.60  347.65   420.0\n",
       "13 2019-01-10 14:15:00  323.00  363.00  323.00  352.05  4060.0\n",
       "14 2019-01-10 14:30:00  352.05  352.05  336.60  345.00  5220.0\n",
       "15 2019-01-10 14:45:00  345.00  350.35  330.15  331.65  1920.0\n",
       "16 2019-01-10 15:00:00  331.65  341.00  319.05  337.40  3880.0"
      ]
     },
     "execution_count": 48,
     "metadata": {},
     "output_type": "execute_result"
    }
   ],
   "source": [
    "data.reset_index(inplace=True)\n",
    "data"
   ]
  },
  {
   "cell_type": "code",
   "execution_count": 49,
   "id": "fbaa061b",
   "metadata": {},
   "outputs": [
    {
     "data": {
      "application/vnd.plotly.v1+json": {
       "config": {
        "plotlyServerURL": "https://plot.ly"
       },
       "data": [
        {
         "close": [
          333,
          332.9,
          325,
          330.05,
          324,
          327.4,
          345,
          341.7,
          335.45,
          340.1,
          353.5,
          323.65,
          347.65,
          352.05,
          345,
          331.65,
          337.4
         ],
         "high": [
          336.85,
          345,
          339.3,
          339,
          328,
          332.2,
          347.05,
          347.2,
          344.9,
          349.75,
          354.7,
          354.75,
          348.5,
          363,
          352.05,
          350.35,
          341
         ],
         "low": [
          315.25,
          325.5,
          321,
          325,
          310,
          324,
          327.4,
          335.95,
          334.7,
          332,
          340.8,
          320,
          320.6,
          323,
          336.6,
          330.15,
          319.05
         ],
         "open": [
          320,
          333,
          332.9,
          325,
          320.35,
          324,
          327.4,
          345,
          341.7,
          335.45,
          351,
          353.5,
          326,
          323,
          352.05,
          345,
          331.65
         ],
         "type": "candlestick",
         "x": [
          "2019-01-10T09:15:00",
          "2019-01-10T09:30:00",
          "2019-01-10T09:45:00",
          "2019-01-10T10:00:00",
          "2019-01-10T10:30:00",
          "2019-01-10T10:45:00",
          "2019-01-10T11:00:00",
          "2019-01-10T11:15:00",
          "2019-01-10T11:30:00",
          "2019-01-10T11:45:00",
          "2019-01-10T12:15:00",
          "2019-01-10T12:30:00",
          "2019-01-10T13:15:00",
          "2019-01-10T14:15:00",
          "2019-01-10T14:30:00",
          "2019-01-10T14:45:00",
          "2019-01-10T15:00:00"
         ]
        }
       ],
       "layout": {
        "template": {
         "data": {
          "bar": [
           {
            "error_x": {
             "color": "#2a3f5f"
            },
            "error_y": {
             "color": "#2a3f5f"
            },
            "marker": {
             "line": {
              "color": "#E5ECF6",
              "width": 0.5
             },
             "pattern": {
              "fillmode": "overlay",
              "size": 10,
              "solidity": 0.2
             }
            },
            "type": "bar"
           }
          ],
          "barpolar": [
           {
            "marker": {
             "line": {
              "color": "#E5ECF6",
              "width": 0.5
             },
             "pattern": {
              "fillmode": "overlay",
              "size": 10,
              "solidity": 0.2
             }
            },
            "type": "barpolar"
           }
          ],
          "carpet": [
           {
            "aaxis": {
             "endlinecolor": "#2a3f5f",
             "gridcolor": "white",
             "linecolor": "white",
             "minorgridcolor": "white",
             "startlinecolor": "#2a3f5f"
            },
            "baxis": {
             "endlinecolor": "#2a3f5f",
             "gridcolor": "white",
             "linecolor": "white",
             "minorgridcolor": "white",
             "startlinecolor": "#2a3f5f"
            },
            "type": "carpet"
           }
          ],
          "choropleth": [
           {
            "colorbar": {
             "outlinewidth": 0,
             "ticks": ""
            },
            "type": "choropleth"
           }
          ],
          "contour": [
           {
            "colorbar": {
             "outlinewidth": 0,
             "ticks": ""
            },
            "colorscale": [
             [
              0,
              "#0d0887"
             ],
             [
              0.1111111111111111,
              "#46039f"
             ],
             [
              0.2222222222222222,
              "#7201a8"
             ],
             [
              0.3333333333333333,
              "#9c179e"
             ],
             [
              0.4444444444444444,
              "#bd3786"
             ],
             [
              0.5555555555555556,
              "#d8576b"
             ],
             [
              0.6666666666666666,
              "#ed7953"
             ],
             [
              0.7777777777777778,
              "#fb9f3a"
             ],
             [
              0.8888888888888888,
              "#fdca26"
             ],
             [
              1,
              "#f0f921"
             ]
            ],
            "type": "contour"
           }
          ],
          "contourcarpet": [
           {
            "colorbar": {
             "outlinewidth": 0,
             "ticks": ""
            },
            "type": "contourcarpet"
           }
          ],
          "heatmap": [
           {
            "colorbar": {
             "outlinewidth": 0,
             "ticks": ""
            },
            "colorscale": [
             [
              0,
              "#0d0887"
             ],
             [
              0.1111111111111111,
              "#46039f"
             ],
             [
              0.2222222222222222,
              "#7201a8"
             ],
             [
              0.3333333333333333,
              "#9c179e"
             ],
             [
              0.4444444444444444,
              "#bd3786"
             ],
             [
              0.5555555555555556,
              "#d8576b"
             ],
             [
              0.6666666666666666,
              "#ed7953"
             ],
             [
              0.7777777777777778,
              "#fb9f3a"
             ],
             [
              0.8888888888888888,
              "#fdca26"
             ],
             [
              1,
              "#f0f921"
             ]
            ],
            "type": "heatmap"
           }
          ],
          "heatmapgl": [
           {
            "colorbar": {
             "outlinewidth": 0,
             "ticks": ""
            },
            "colorscale": [
             [
              0,
              "#0d0887"
             ],
             [
              0.1111111111111111,
              "#46039f"
             ],
             [
              0.2222222222222222,
              "#7201a8"
             ],
             [
              0.3333333333333333,
              "#9c179e"
             ],
             [
              0.4444444444444444,
              "#bd3786"
             ],
             [
              0.5555555555555556,
              "#d8576b"
             ],
             [
              0.6666666666666666,
              "#ed7953"
             ],
             [
              0.7777777777777778,
              "#fb9f3a"
             ],
             [
              0.8888888888888888,
              "#fdca26"
             ],
             [
              1,
              "#f0f921"
             ]
            ],
            "type": "heatmapgl"
           }
          ],
          "histogram": [
           {
            "marker": {
             "pattern": {
              "fillmode": "overlay",
              "size": 10,
              "solidity": 0.2
             }
            },
            "type": "histogram"
           }
          ],
          "histogram2d": [
           {
            "colorbar": {
             "outlinewidth": 0,
             "ticks": ""
            },
            "colorscale": [
             [
              0,
              "#0d0887"
             ],
             [
              0.1111111111111111,
              "#46039f"
             ],
             [
              0.2222222222222222,
              "#7201a8"
             ],
             [
              0.3333333333333333,
              "#9c179e"
             ],
             [
              0.4444444444444444,
              "#bd3786"
             ],
             [
              0.5555555555555556,
              "#d8576b"
             ],
             [
              0.6666666666666666,
              "#ed7953"
             ],
             [
              0.7777777777777778,
              "#fb9f3a"
             ],
             [
              0.8888888888888888,
              "#fdca26"
             ],
             [
              1,
              "#f0f921"
             ]
            ],
            "type": "histogram2d"
           }
          ],
          "histogram2dcontour": [
           {
            "colorbar": {
             "outlinewidth": 0,
             "ticks": ""
            },
            "colorscale": [
             [
              0,
              "#0d0887"
             ],
             [
              0.1111111111111111,
              "#46039f"
             ],
             [
              0.2222222222222222,
              "#7201a8"
             ],
             [
              0.3333333333333333,
              "#9c179e"
             ],
             [
              0.4444444444444444,
              "#bd3786"
             ],
             [
              0.5555555555555556,
              "#d8576b"
             ],
             [
              0.6666666666666666,
              "#ed7953"
             ],
             [
              0.7777777777777778,
              "#fb9f3a"
             ],
             [
              0.8888888888888888,
              "#fdca26"
             ],
             [
              1,
              "#f0f921"
             ]
            ],
            "type": "histogram2dcontour"
           }
          ],
          "mesh3d": [
           {
            "colorbar": {
             "outlinewidth": 0,
             "ticks": ""
            },
            "type": "mesh3d"
           }
          ],
          "parcoords": [
           {
            "line": {
             "colorbar": {
              "outlinewidth": 0,
              "ticks": ""
             }
            },
            "type": "parcoords"
           }
          ],
          "pie": [
           {
            "automargin": true,
            "type": "pie"
           }
          ],
          "scatter": [
           {
            "marker": {
             "colorbar": {
              "outlinewidth": 0,
              "ticks": ""
             }
            },
            "type": "scatter"
           }
          ],
          "scatter3d": [
           {
            "line": {
             "colorbar": {
              "outlinewidth": 0,
              "ticks": ""
             }
            },
            "marker": {
             "colorbar": {
              "outlinewidth": 0,
              "ticks": ""
             }
            },
            "type": "scatter3d"
           }
          ],
          "scattercarpet": [
           {
            "marker": {
             "colorbar": {
              "outlinewidth": 0,
              "ticks": ""
             }
            },
            "type": "scattercarpet"
           }
          ],
          "scattergeo": [
           {
            "marker": {
             "colorbar": {
              "outlinewidth": 0,
              "ticks": ""
             }
            },
            "type": "scattergeo"
           }
          ],
          "scattergl": [
           {
            "marker": {
             "colorbar": {
              "outlinewidth": 0,
              "ticks": ""
             }
            },
            "type": "scattergl"
           }
          ],
          "scattermapbox": [
           {
            "marker": {
             "colorbar": {
              "outlinewidth": 0,
              "ticks": ""
             }
            },
            "type": "scattermapbox"
           }
          ],
          "scatterpolar": [
           {
            "marker": {
             "colorbar": {
              "outlinewidth": 0,
              "ticks": ""
             }
            },
            "type": "scatterpolar"
           }
          ],
          "scatterpolargl": [
           {
            "marker": {
             "colorbar": {
              "outlinewidth": 0,
              "ticks": ""
             }
            },
            "type": "scatterpolargl"
           }
          ],
          "scatterternary": [
           {
            "marker": {
             "colorbar": {
              "outlinewidth": 0,
              "ticks": ""
             }
            },
            "type": "scatterternary"
           }
          ],
          "surface": [
           {
            "colorbar": {
             "outlinewidth": 0,
             "ticks": ""
            },
            "colorscale": [
             [
              0,
              "#0d0887"
             ],
             [
              0.1111111111111111,
              "#46039f"
             ],
             [
              0.2222222222222222,
              "#7201a8"
             ],
             [
              0.3333333333333333,
              "#9c179e"
             ],
             [
              0.4444444444444444,
              "#bd3786"
             ],
             [
              0.5555555555555556,
              "#d8576b"
             ],
             [
              0.6666666666666666,
              "#ed7953"
             ],
             [
              0.7777777777777778,
              "#fb9f3a"
             ],
             [
              0.8888888888888888,
              "#fdca26"
             ],
             [
              1,
              "#f0f921"
             ]
            ],
            "type": "surface"
           }
          ],
          "table": [
           {
            "cells": {
             "fill": {
              "color": "#EBF0F8"
             },
             "line": {
              "color": "white"
             }
            },
            "header": {
             "fill": {
              "color": "#C8D4E3"
             },
             "line": {
              "color": "white"
             }
            },
            "type": "table"
           }
          ]
         },
         "layout": {
          "annotationdefaults": {
           "arrowcolor": "#2a3f5f",
           "arrowhead": 0,
           "arrowwidth": 1
          },
          "autotypenumbers": "strict",
          "coloraxis": {
           "colorbar": {
            "outlinewidth": 0,
            "ticks": ""
           }
          },
          "colorscale": {
           "diverging": [
            [
             0,
             "#8e0152"
            ],
            [
             0.1,
             "#c51b7d"
            ],
            [
             0.2,
             "#de77ae"
            ],
            [
             0.3,
             "#f1b6da"
            ],
            [
             0.4,
             "#fde0ef"
            ],
            [
             0.5,
             "#f7f7f7"
            ],
            [
             0.6,
             "#e6f5d0"
            ],
            [
             0.7,
             "#b8e186"
            ],
            [
             0.8,
             "#7fbc41"
            ],
            [
             0.9,
             "#4d9221"
            ],
            [
             1,
             "#276419"
            ]
           ],
           "sequential": [
            [
             0,
             "#0d0887"
            ],
            [
             0.1111111111111111,
             "#46039f"
            ],
            [
             0.2222222222222222,
             "#7201a8"
            ],
            [
             0.3333333333333333,
             "#9c179e"
            ],
            [
             0.4444444444444444,
             "#bd3786"
            ],
            [
             0.5555555555555556,
             "#d8576b"
            ],
            [
             0.6666666666666666,
             "#ed7953"
            ],
            [
             0.7777777777777778,
             "#fb9f3a"
            ],
            [
             0.8888888888888888,
             "#fdca26"
            ],
            [
             1,
             "#f0f921"
            ]
           ],
           "sequentialminus": [
            [
             0,
             "#0d0887"
            ],
            [
             0.1111111111111111,
             "#46039f"
            ],
            [
             0.2222222222222222,
             "#7201a8"
            ],
            [
             0.3333333333333333,
             "#9c179e"
            ],
            [
             0.4444444444444444,
             "#bd3786"
            ],
            [
             0.5555555555555556,
             "#d8576b"
            ],
            [
             0.6666666666666666,
             "#ed7953"
            ],
            [
             0.7777777777777778,
             "#fb9f3a"
            ],
            [
             0.8888888888888888,
             "#fdca26"
            ],
            [
             1,
             "#f0f921"
            ]
           ]
          },
          "colorway": [
           "#636efa",
           "#EF553B",
           "#00cc96",
           "#ab63fa",
           "#FFA15A",
           "#19d3f3",
           "#FF6692",
           "#B6E880",
           "#FF97FF",
           "#FECB52"
          ],
          "font": {
           "color": "#2a3f5f"
          },
          "geo": {
           "bgcolor": "white",
           "lakecolor": "white",
           "landcolor": "#E5ECF6",
           "showlakes": true,
           "showland": true,
           "subunitcolor": "white"
          },
          "hoverlabel": {
           "align": "left"
          },
          "hovermode": "closest",
          "mapbox": {
           "style": "light"
          },
          "paper_bgcolor": "white",
          "plot_bgcolor": "#E5ECF6",
          "polar": {
           "angularaxis": {
            "gridcolor": "white",
            "linecolor": "white",
            "ticks": ""
           },
           "bgcolor": "#E5ECF6",
           "radialaxis": {
            "gridcolor": "white",
            "linecolor": "white",
            "ticks": ""
           }
          },
          "scene": {
           "xaxis": {
            "backgroundcolor": "#E5ECF6",
            "gridcolor": "white",
            "gridwidth": 2,
            "linecolor": "white",
            "showbackground": true,
            "ticks": "",
            "zerolinecolor": "white"
           },
           "yaxis": {
            "backgroundcolor": "#E5ECF6",
            "gridcolor": "white",
            "gridwidth": 2,
            "linecolor": "white",
            "showbackground": true,
            "ticks": "",
            "zerolinecolor": "white"
           },
           "zaxis": {
            "backgroundcolor": "#E5ECF6",
            "gridcolor": "white",
            "gridwidth": 2,
            "linecolor": "white",
            "showbackground": true,
            "ticks": "",
            "zerolinecolor": "white"
           }
          },
          "shapedefaults": {
           "line": {
            "color": "#2a3f5f"
           }
          },
          "ternary": {
           "aaxis": {
            "gridcolor": "white",
            "linecolor": "white",
            "ticks": ""
           },
           "baxis": {
            "gridcolor": "white",
            "linecolor": "white",
            "ticks": ""
           },
           "bgcolor": "#E5ECF6",
           "caxis": {
            "gridcolor": "white",
            "linecolor": "white",
            "ticks": ""
           }
          },
          "title": {
           "x": 0.05
          },
          "xaxis": {
           "automargin": true,
           "gridcolor": "white",
           "linecolor": "white",
           "ticks": "",
           "title": {
            "standoff": 15
           },
           "zerolinecolor": "white",
           "zerolinewidth": 2
          },
          "yaxis": {
           "automargin": true,
           "gridcolor": "white",
           "linecolor": "white",
           "ticks": "",
           "title": {
            "standoff": 15
           },
           "zerolinecolor": "white",
           "zerolinewidth": 2
          }
         }
        }
       }
      },
      "text/html": [
       "<div>                            <div id=\"3c868a54-eeaa-4cfa-996e-5b8146f3e8cd\" class=\"plotly-graph-div\" style=\"height:525px; width:100%;\"></div>            <script type=\"text/javascript\">                require([\"plotly\"], function(Plotly) {                    window.PLOTLYENV=window.PLOTLYENV || {};                                    if (document.getElementById(\"3c868a54-eeaa-4cfa-996e-5b8146f3e8cd\")) {                    Plotly.newPlot(                        \"3c868a54-eeaa-4cfa-996e-5b8146f3e8cd\",                        [{\"close\":[333.0,332.9,325.0,330.05,324.0,327.4,345.0,341.7,335.45,340.1,353.5,323.65,347.65,352.05,345.0,331.65,337.4],\"high\":[336.85,345.0,339.3,339.0,328.0,332.2,347.05,347.2,344.9,349.75,354.7,354.75,348.5,363.0,352.05,350.35,341.0],\"low\":[315.25,325.5,321.0,325.0,310.0,324.0,327.4,335.95,334.7,332.0,340.8,320.0,320.6,323.0,336.6,330.15,319.05],\"open\":[320.0,333.0,332.9,325.0,320.35,324.0,327.4,345.0,341.7,335.45,351.0,353.5,326.0,323.0,352.05,345.0,331.65],\"x\":[\"2019-01-10T09:15:00\",\"2019-01-10T09:30:00\",\"2019-01-10T09:45:00\",\"2019-01-10T10:00:00\",\"2019-01-10T10:30:00\",\"2019-01-10T10:45:00\",\"2019-01-10T11:00:00\",\"2019-01-10T11:15:00\",\"2019-01-10T11:30:00\",\"2019-01-10T11:45:00\",\"2019-01-10T12:15:00\",\"2019-01-10T12:30:00\",\"2019-01-10T13:15:00\",\"2019-01-10T14:15:00\",\"2019-01-10T14:30:00\",\"2019-01-10T14:45:00\",\"2019-01-10T15:00:00\"],\"type\":\"candlestick\"}],                        {\"template\":{\"data\":{\"bar\":[{\"error_x\":{\"color\":\"#2a3f5f\"},\"error_y\":{\"color\":\"#2a3f5f\"},\"marker\":{\"line\":{\"color\":\"#E5ECF6\",\"width\":0.5},\"pattern\":{\"fillmode\":\"overlay\",\"size\":10,\"solidity\":0.2}},\"type\":\"bar\"}],\"barpolar\":[{\"marker\":{\"line\":{\"color\":\"#E5ECF6\",\"width\":0.5},\"pattern\":{\"fillmode\":\"overlay\",\"size\":10,\"solidity\":0.2}},\"type\":\"barpolar\"}],\"carpet\":[{\"aaxis\":{\"endlinecolor\":\"#2a3f5f\",\"gridcolor\":\"white\",\"linecolor\":\"white\",\"minorgridcolor\":\"white\",\"startlinecolor\":\"#2a3f5f\"},\"baxis\":{\"endlinecolor\":\"#2a3f5f\",\"gridcolor\":\"white\",\"linecolor\":\"white\",\"minorgridcolor\":\"white\",\"startlinecolor\":\"#2a3f5f\"},\"type\":\"carpet\"}],\"choropleth\":[{\"colorbar\":{\"outlinewidth\":0,\"ticks\":\"\"},\"type\":\"choropleth\"}],\"contour\":[{\"colorbar\":{\"outlinewidth\":0,\"ticks\":\"\"},\"colorscale\":[[0.0,\"#0d0887\"],[0.1111111111111111,\"#46039f\"],[0.2222222222222222,\"#7201a8\"],[0.3333333333333333,\"#9c179e\"],[0.4444444444444444,\"#bd3786\"],[0.5555555555555556,\"#d8576b\"],[0.6666666666666666,\"#ed7953\"],[0.7777777777777778,\"#fb9f3a\"],[0.8888888888888888,\"#fdca26\"],[1.0,\"#f0f921\"]],\"type\":\"contour\"}],\"contourcarpet\":[{\"colorbar\":{\"outlinewidth\":0,\"ticks\":\"\"},\"type\":\"contourcarpet\"}],\"heatmap\":[{\"colorbar\":{\"outlinewidth\":0,\"ticks\":\"\"},\"colorscale\":[[0.0,\"#0d0887\"],[0.1111111111111111,\"#46039f\"],[0.2222222222222222,\"#7201a8\"],[0.3333333333333333,\"#9c179e\"],[0.4444444444444444,\"#bd3786\"],[0.5555555555555556,\"#d8576b\"],[0.6666666666666666,\"#ed7953\"],[0.7777777777777778,\"#fb9f3a\"],[0.8888888888888888,\"#fdca26\"],[1.0,\"#f0f921\"]],\"type\":\"heatmap\"}],\"heatmapgl\":[{\"colorbar\":{\"outlinewidth\":0,\"ticks\":\"\"},\"colorscale\":[[0.0,\"#0d0887\"],[0.1111111111111111,\"#46039f\"],[0.2222222222222222,\"#7201a8\"],[0.3333333333333333,\"#9c179e\"],[0.4444444444444444,\"#bd3786\"],[0.5555555555555556,\"#d8576b\"],[0.6666666666666666,\"#ed7953\"],[0.7777777777777778,\"#fb9f3a\"],[0.8888888888888888,\"#fdca26\"],[1.0,\"#f0f921\"]],\"type\":\"heatmapgl\"}],\"histogram\":[{\"marker\":{\"pattern\":{\"fillmode\":\"overlay\",\"size\":10,\"solidity\":0.2}},\"type\":\"histogram\"}],\"histogram2d\":[{\"colorbar\":{\"outlinewidth\":0,\"ticks\":\"\"},\"colorscale\":[[0.0,\"#0d0887\"],[0.1111111111111111,\"#46039f\"],[0.2222222222222222,\"#7201a8\"],[0.3333333333333333,\"#9c179e\"],[0.4444444444444444,\"#bd3786\"],[0.5555555555555556,\"#d8576b\"],[0.6666666666666666,\"#ed7953\"],[0.7777777777777778,\"#fb9f3a\"],[0.8888888888888888,\"#fdca26\"],[1.0,\"#f0f921\"]],\"type\":\"histogram2d\"}],\"histogram2dcontour\":[{\"colorbar\":{\"outlinewidth\":0,\"ticks\":\"\"},\"colorscale\":[[0.0,\"#0d0887\"],[0.1111111111111111,\"#46039f\"],[0.2222222222222222,\"#7201a8\"],[0.3333333333333333,\"#9c179e\"],[0.4444444444444444,\"#bd3786\"],[0.5555555555555556,\"#d8576b\"],[0.6666666666666666,\"#ed7953\"],[0.7777777777777778,\"#fb9f3a\"],[0.8888888888888888,\"#fdca26\"],[1.0,\"#f0f921\"]],\"type\":\"histogram2dcontour\"}],\"mesh3d\":[{\"colorbar\":{\"outlinewidth\":0,\"ticks\":\"\"},\"type\":\"mesh3d\"}],\"parcoords\":[{\"line\":{\"colorbar\":{\"outlinewidth\":0,\"ticks\":\"\"}},\"type\":\"parcoords\"}],\"pie\":[{\"automargin\":true,\"type\":\"pie\"}],\"scatter\":[{\"marker\":{\"colorbar\":{\"outlinewidth\":0,\"ticks\":\"\"}},\"type\":\"scatter\"}],\"scatter3d\":[{\"line\":{\"colorbar\":{\"outlinewidth\":0,\"ticks\":\"\"}},\"marker\":{\"colorbar\":{\"outlinewidth\":0,\"ticks\":\"\"}},\"type\":\"scatter3d\"}],\"scattercarpet\":[{\"marker\":{\"colorbar\":{\"outlinewidth\":0,\"ticks\":\"\"}},\"type\":\"scattercarpet\"}],\"scattergeo\":[{\"marker\":{\"colorbar\":{\"outlinewidth\":0,\"ticks\":\"\"}},\"type\":\"scattergeo\"}],\"scattergl\":[{\"marker\":{\"colorbar\":{\"outlinewidth\":0,\"ticks\":\"\"}},\"type\":\"scattergl\"}],\"scattermapbox\":[{\"marker\":{\"colorbar\":{\"outlinewidth\":0,\"ticks\":\"\"}},\"type\":\"scattermapbox\"}],\"scatterpolar\":[{\"marker\":{\"colorbar\":{\"outlinewidth\":0,\"ticks\":\"\"}},\"type\":\"scatterpolar\"}],\"scatterpolargl\":[{\"marker\":{\"colorbar\":{\"outlinewidth\":0,\"ticks\":\"\"}},\"type\":\"scatterpolargl\"}],\"scatterternary\":[{\"marker\":{\"colorbar\":{\"outlinewidth\":0,\"ticks\":\"\"}},\"type\":\"scatterternary\"}],\"surface\":[{\"colorbar\":{\"outlinewidth\":0,\"ticks\":\"\"},\"colorscale\":[[0.0,\"#0d0887\"],[0.1111111111111111,\"#46039f\"],[0.2222222222222222,\"#7201a8\"],[0.3333333333333333,\"#9c179e\"],[0.4444444444444444,\"#bd3786\"],[0.5555555555555556,\"#d8576b\"],[0.6666666666666666,\"#ed7953\"],[0.7777777777777778,\"#fb9f3a\"],[0.8888888888888888,\"#fdca26\"],[1.0,\"#f0f921\"]],\"type\":\"surface\"}],\"table\":[{\"cells\":{\"fill\":{\"color\":\"#EBF0F8\"},\"line\":{\"color\":\"white\"}},\"header\":{\"fill\":{\"color\":\"#C8D4E3\"},\"line\":{\"color\":\"white\"}},\"type\":\"table\"}]},\"layout\":{\"annotationdefaults\":{\"arrowcolor\":\"#2a3f5f\",\"arrowhead\":0,\"arrowwidth\":1},\"autotypenumbers\":\"strict\",\"coloraxis\":{\"colorbar\":{\"outlinewidth\":0,\"ticks\":\"\"}},\"colorscale\":{\"diverging\":[[0,\"#8e0152\"],[0.1,\"#c51b7d\"],[0.2,\"#de77ae\"],[0.3,\"#f1b6da\"],[0.4,\"#fde0ef\"],[0.5,\"#f7f7f7\"],[0.6,\"#e6f5d0\"],[0.7,\"#b8e186\"],[0.8,\"#7fbc41\"],[0.9,\"#4d9221\"],[1,\"#276419\"]],\"sequential\":[[0.0,\"#0d0887\"],[0.1111111111111111,\"#46039f\"],[0.2222222222222222,\"#7201a8\"],[0.3333333333333333,\"#9c179e\"],[0.4444444444444444,\"#bd3786\"],[0.5555555555555556,\"#d8576b\"],[0.6666666666666666,\"#ed7953\"],[0.7777777777777778,\"#fb9f3a\"],[0.8888888888888888,\"#fdca26\"],[1.0,\"#f0f921\"]],\"sequentialminus\":[[0.0,\"#0d0887\"],[0.1111111111111111,\"#46039f\"],[0.2222222222222222,\"#7201a8\"],[0.3333333333333333,\"#9c179e\"],[0.4444444444444444,\"#bd3786\"],[0.5555555555555556,\"#d8576b\"],[0.6666666666666666,\"#ed7953\"],[0.7777777777777778,\"#fb9f3a\"],[0.8888888888888888,\"#fdca26\"],[1.0,\"#f0f921\"]]},\"colorway\":[\"#636efa\",\"#EF553B\",\"#00cc96\",\"#ab63fa\",\"#FFA15A\",\"#19d3f3\",\"#FF6692\",\"#B6E880\",\"#FF97FF\",\"#FECB52\"],\"font\":{\"color\":\"#2a3f5f\"},\"geo\":{\"bgcolor\":\"white\",\"lakecolor\":\"white\",\"landcolor\":\"#E5ECF6\",\"showlakes\":true,\"showland\":true,\"subunitcolor\":\"white\"},\"hoverlabel\":{\"align\":\"left\"},\"hovermode\":\"closest\",\"mapbox\":{\"style\":\"light\"},\"paper_bgcolor\":\"white\",\"plot_bgcolor\":\"#E5ECF6\",\"polar\":{\"angularaxis\":{\"gridcolor\":\"white\",\"linecolor\":\"white\",\"ticks\":\"\"},\"bgcolor\":\"#E5ECF6\",\"radialaxis\":{\"gridcolor\":\"white\",\"linecolor\":\"white\",\"ticks\":\"\"}},\"scene\":{\"xaxis\":{\"backgroundcolor\":\"#E5ECF6\",\"gridcolor\":\"white\",\"gridwidth\":2,\"linecolor\":\"white\",\"showbackground\":true,\"ticks\":\"\",\"zerolinecolor\":\"white\"},\"yaxis\":{\"backgroundcolor\":\"#E5ECF6\",\"gridcolor\":\"white\",\"gridwidth\":2,\"linecolor\":\"white\",\"showbackground\":true,\"ticks\":\"\",\"zerolinecolor\":\"white\"},\"zaxis\":{\"backgroundcolor\":\"#E5ECF6\",\"gridcolor\":\"white\",\"gridwidth\":2,\"linecolor\":\"white\",\"showbackground\":true,\"ticks\":\"\",\"zerolinecolor\":\"white\"}},\"shapedefaults\":{\"line\":{\"color\":\"#2a3f5f\"}},\"ternary\":{\"aaxis\":{\"gridcolor\":\"white\",\"linecolor\":\"white\",\"ticks\":\"\"},\"baxis\":{\"gridcolor\":\"white\",\"linecolor\":\"white\",\"ticks\":\"\"},\"bgcolor\":\"#E5ECF6\",\"caxis\":{\"gridcolor\":\"white\",\"linecolor\":\"white\",\"ticks\":\"\"}},\"title\":{\"x\":0.05},\"xaxis\":{\"automargin\":true,\"gridcolor\":\"white\",\"linecolor\":\"white\",\"ticks\":\"\",\"title\":{\"standoff\":15},\"zerolinecolor\":\"white\",\"zerolinewidth\":2},\"yaxis\":{\"automargin\":true,\"gridcolor\":\"white\",\"linecolor\":\"white\",\"ticks\":\"\",\"title\":{\"standoff\":15},\"zerolinecolor\":\"white\",\"zerolinewidth\":2}}}},                        {\"responsive\": true}                    ).then(function(){\n",
       "                            \n",
       "var gd = document.getElementById('3c868a54-eeaa-4cfa-996e-5b8146f3e8cd');\n",
       "var x = new MutationObserver(function (mutations, observer) {{\n",
       "        var display = window.getComputedStyle(gd).display;\n",
       "        if (!display || display === 'none') {{\n",
       "            console.log([gd, 'removed!']);\n",
       "            Plotly.purge(gd);\n",
       "            observer.disconnect();\n",
       "        }}\n",
       "}});\n",
       "\n",
       "// Listen for the removal of the full notebook cells\n",
       "var notebookContainer = gd.closest('#notebook-container');\n",
       "if (notebookContainer) {{\n",
       "    x.observe(notebookContainer, {childList: true});\n",
       "}}\n",
       "\n",
       "// Listen for the clearing of the current output cell\n",
       "var outputEl = gd.closest('.output');\n",
       "if (outputEl) {{\n",
       "    x.observe(outputEl, {childList: true});\n",
       "}}\n",
       "\n",
       "                        })                };                });            </script>        </div>"
      ]
     },
     "metadata": {},
     "output_type": "display_data"
    }
   ],
   "source": [
    "fig = go.Figure(data=[go.Candlestick(x=data['datetime'],\n",
    "                open=data['open'],\n",
    "                high=data['high'],\n",
    "                low=data['low'],\n",
    "                close=data['close'])])\n",
    "# fig.update_layout(yaxis = list(fixedrange = False))\n",
    "fig.show()"
   ]
  },
  {
   "cell_type": "code",
   "execution_count": null,
   "id": "0c083fc2",
   "metadata": {},
   "outputs": [],
   "source": []
  }
 ],
 "metadata": {
  "kernelspec": {
   "display_name": "Python 3 (ipykernel)",
   "language": "python",
   "name": "python3"
  },
  "language_info": {
   "codemirror_mode": {
    "name": "ipython",
    "version": 3
   },
   "file_extension": ".py",
   "mimetype": "text/x-python",
   "name": "python",
   "nbconvert_exporter": "python",
   "pygments_lexer": "ipython3",
   "version": "3.8.6"
  }
 },
 "nbformat": 4,
 "nbformat_minor": 5
}
